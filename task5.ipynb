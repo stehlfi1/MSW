{
 "cells": [
  {
   "attachments": {},
   "cell_type": "markdown",
   "metadata": {},
   "source": [
    "\n",
    "\n",
    "Zadání:\n",
    "V tomto kurzu jste se učili s některými vybranými knihovnami. Některé sloužily pro rychlé vektorové operace, jako numpy, některé mají naprogramovány symbolické manipulace, které lze převést na numerické reprezentace (sympy), některé mají v sobě funkce pro numerickou integraci (scipy). Některé slouží i pro rychlé základní operace s čísly (numba).\n",
    "\n",
    "Vaším úkolem je změřit potřebný čas pro vyřešení nějakého problému (např.: provést skalární součin, vypočítat určitý integrál) pomocí standardního pythonu a pomocí specializované knihovny. Toto měření proveďte alespoň pro 5 různých úloh (ne pouze jiná čísla, ale úplně jiné téma) a minimálně porovnejte rychlost jednoho modulu se standardním pythonem. Ideálně proveďte porovnání ještě s dalším modulem a snažte se, ať je kód ve standardním pythonu napsán efektivně. ​ "
   ]
  },
  {
   "attachments": {},
   "cell_type": "markdown",
   "metadata": {},
   "source": [
    "# 1 Generace PI"
   ]
  },
  {
   "cell_type": "code",
   "execution_count": 1,
   "metadata": {},
   "outputs": [],
   "source": [
    "from mpmath import mp, mpf, quad\n",
    "import numpy as np\n",
    "import time\n",
    "import math\n",
    "import random"
   ]
  },
  {
   "attachments": {},
   "cell_type": "markdown",
   "metadata": {},
   "source": [
    "Notes:\n",
    "What to do:"
   ]
  },
  {
   "cell_type": "code",
   "execution_count": null,
   "metadata": {},
   "outputs": [],
   "source": [
    "def make_pi_mpmath(a):\n",
    "    t1 = time.time()\n",
    "    mp.dps = a # set number of digits\n",
    "    #print(mp.pi)   # print pi to a thousand places\n",
    "    return time.time() - t1"
   ]
  },
  {
   "cell_type": "code",
   "execution_count": null,
   "metadata": {},
   "outputs": [],
   "source": [
    "def make_pi_spygot(a):\n",
    "    def make_pi(a):\n",
    "        q, r, t, k, m, x = 1, 0, 1, 1, 3, 3\n",
    "        for j in range(a):\n",
    "            if 4 * q + r - t < m * t:\n",
    "                yield m\n",
    "                q, r, t, k, m, x = 10*q, 10*(r-m*t), t, k, (10*(3*q+r))//t - 10*m, x\n",
    "            else:\n",
    "                q, r, t, k, m, x = q*k, (2*q+r)*x, t*x, k+1, (q*(7*k+2)+r*x)//(t*x), x+2\n",
    "\n",
    "    t1 = time.time()\n",
    "    my_array = []\n",
    "\n",
    "    for i in make_pi(a):\n",
    "        my_array.append(str(i))\n",
    "\n",
    "    my_array = my_array[:1] + ['.'] + my_array[1:]\n",
    "    big_string = \"\".join(my_array)\n",
    "    #print (\"here is a big string:\\n %s\" % big_string )\n",
    "    return time.time() - t1"
   ]
  },
  {
   "cell_type": "code",
   "execution_count": null,
   "metadata": {},
   "outputs": [
    {
     "name": "stdout",
     "output_type": "stream",
     "text": [
      "param: 10 mp math: 0.0 native spygot: 0.0\n",
      "param: 100 mp math: 0.0 native spygot: 0.0\n",
      "param: 1000 mp math: 0.0 native spygot: 0.0057070255279541016\n",
      "param: 10000 mp math: 0.0 native spygot: 0.3697638511657715\n",
      "param: 100000 mp math: 0.0 native spygot: 43.01743292808533\n"
     ]
    }
   ],
   "source": [
    "factor = 10\n",
    "i = 1\n",
    "\n",
    "while i < 10001:\n",
    "    i *= factor\n",
    "    a = i\n",
    "    t1 = make_pi_mpmath(a)\n",
    "    t2 = make_pi_spygot(a)\n",
    "    print(\"param:\",a,\"mp math:\", t1, \"native spygot:\", t2)\n"
   ]
  },
  {
   "attachments": {},
   "cell_type": "markdown",
   "metadata": {},
   "source": [
    "Native is prolly around  O(x**2)\n",
    "Next will be mp vs ()"
   ]
  },
  {
   "attachments": {},
   "cell_type": "markdown",
   "metadata": {},
   "source": [
    "# 2 Factorial\n"
   ]
  },
  {
   "cell_type": "code",
   "execution_count": 11,
   "metadata": {},
   "outputs": [
    {
     "name": "stdout",
     "output_type": "stream",
     "text": [
      "10\n",
      "Standardní Python - Výpočet faktoriálu:  0.0\n",
      "Standardní Python Math module - Výpočet faktoriálu:  0.0\n",
      "Specializovaná knihovna - Výpočet faktoriálu:  0.0\n",
      "100\n",
      "Standardní Python - Výpočet faktoriálu:  0.0\n",
      "Standardní Python Math module - Výpočet faktoriálu:  0.0\n",
      "Specializovaná knihovna - Výpočet faktoriálu:  0.0\n",
      "1000\n",
      "Standardní Python - Výpočet faktoriálu:  0.0013985633850097656\n",
      "Standardní Python Math module - Výpočet faktoriálu:  0.0\n",
      "Specializovaná knihovna - Výpočet faktoriálu:  0.0\n",
      "10000\n",
      "Standardní Python - Výpočet faktoriálu:  0.04415631294250488\n",
      "Standardní Python Math module - Výpočet faktoriálu:  0.0060083866119384766\n",
      "Specializovaná knihovna - Výpočet faktoriálu:  0.005991697311401367\n",
      "100000\n",
      "Standardní Python - Výpočet faktoriálu:  3.476001739501953\n",
      "Standardní Python Math module - Výpočet faktoriálu:  0.20551490783691406\n",
      "Specializovaná knihovna - Výpočet faktoriálu:  0.20029449462890625\n",
      "1000000\n",
      "Standardní Python - Výpočet faktoriálu:  883.3428249359131\n",
      "Standardní Python Math module - Výpočet faktoriálu:  11.930301189422607\n",
      "Specializovaná knihovna - Výpočet faktoriálu:  11.773900032043457\n"
     ]
    }
   ],
   "source": [
    "def factorial(x):\n",
    "    if x < 0:\n",
    "        raise ValueError(\"Factorial is not defined for negative numbers.\")\n",
    "    elif x == 0 or x == 1:\n",
    "        return 1\n",
    "    else:\n",
    "        result = 1\n",
    "        for i in range(2, x + 1):\n",
    "            result *= i\n",
    "        return result\n",
    "\n",
    "# Example usage\n",
    "\n",
    "factor = 10\n",
    "i = 1\n",
    "\n",
    "while i < 100001:\n",
    "    i *= factor\n",
    "    number = i\n",
    "    start_time = time.time()\n",
    "    result = factorial(number)\n",
    "    end_time = time.time()\n",
    "\n",
    "    execution_time = end_time - start_time\n",
    "    print(number)\n",
    "    print(\"Standardní Python - Výpočet faktoriálu: \", execution_time)\n",
    "\n",
    "    start_time = time.time()\n",
    "    result = math.factorial(number)\n",
    "    end_time = time.time()\n",
    "\n",
    "    execution_time = end_time - start_time\n",
    "    print(\"Standardní Python Math module - Výpočet faktoriálu: \", execution_time)\n",
    "\n",
    "    start_time = time.time()\n",
    "    result = np.math.factorial(number)\n",
    "    end_time = time.time()\n",
    "\n",
    "    execution_time = end_time - start_time\n",
    "    print(\"Specializovaná knihovna - Výpočet faktoriálu: \", execution_time)\n"
   ]
  },
  {
   "attachments": {},
   "cell_type": "markdown",
   "metadata": {},
   "source": [
    "# 3 Sčítáni matic klasic vs numpy\n"
   ]
  },
  {
   "cell_type": "code",
   "execution_count": 3,
   "metadata": {},
   "outputs": [
    {
     "name": "stdout",
     "output_type": "stream",
     "text": [
      "Standardní Python - Generace matic:  10 0.000997304916381836\n",
      "Standardní Python - Sčítání matic:  10 0.0\n",
      "Specializovaná knihovna Python - Generace matic:  10 0.0\n",
      "Specializovaná knihovna - Sčítání matic:  10 0.0\n",
      "Standardní Python - Generace matic:  100 0.02254629135131836\n",
      "Standardní Python - Sčítání matic:  100 0.0019655227661132812\n",
      "Specializovaná knihovna Python - Generace matic:  100 0.0010046958923339844\n",
      "Specializovaná knihovna - Sčítání matic:  100 0.0\n",
      "Standardní Python - Generace matic:  1000 1.82865571975708\n",
      "Standardní Python - Sčítání matic:  1000 0.15996551513671875\n",
      "Specializovaná knihovna Python - Generace matic:  1000 0.028224468231201172\n",
      "Specializovaná knihovna - Sčítání matic:  1000 0.006043195724487305\n",
      "Standardní Python - Generace matic:  10000 190.69982957839966\n",
      "Standardní Python - Sčítání matic:  10000 14.828606843948364\n",
      "Specializovaná knihovna Python - Generace matic:  10000 3.718386650085449\n",
      "Specializovaná knihovna - Sčítání matic:  10000 0.7429971694946289\n"
     ]
    }
   ],
   "source": [
    "\n",
    "factor = 10\n",
    "i = 1\n",
    "\n",
    "while i < 1001:\n",
    "    i *= factor\n",
    "    number = i\n",
    "    start_time = time.time()\n",
    "    matrix1 = [[random.randint(1, 100) for _ in range(number)] for _ in range(number)]\n",
    "    matrix2 = [[random.randint(1, 100) for _ in range(number)] for _ in range(number)]\n",
    "    end_time = time.time()\n",
    "    execution_time = end_time - start_time\n",
    "    print(\"Standardní Python - Generace matic: \",number, execution_time)\n",
    "\n",
    "    start_time = time.time()\n",
    "    result = [[matrix1[i][j] + matrix2[i][j] for j in range(len(matrix1[0]))] for i in range(len(matrix1))]\n",
    "    end_time = time.time()\n",
    "    execution_time = end_time - start_time\n",
    "    print(\"Standardní Python - Sčítání matic: \",number, execution_time)\n",
    "\n",
    "    start_time = time.time()\n",
    "    matrix1 = np.random.randint(1, 100, size=(number, number))\n",
    "    matrix2 = np.random.randint(1, 100, size=(number, number))\n",
    "    end_time = time.time()\n",
    "    execution_time = end_time - start_time\n",
    "    print(\"Specializovaná knihovna Python - Generace matic: \",number, execution_time)\n",
    "\n",
    "    start_time = time.time()\n",
    "    result = np.add(matrix1, matrix2)\n",
    "    end_time = time.time()\n",
    "    execution_time = end_time - start_time\n",
    "    print(\"Specializovaná knihovna - Sčítání matic: \",number, execution_time)\n"
   ]
  },
  {
   "attachments": {},
   "cell_type": "markdown",
   "metadata": {},
   "source": [
    "POZN: kod bezel dost dlouho - implikace že generovani arrayu zabralo dele než scitaní, -take jsem dal timeing - kod opravdu nejdéle generoval matice"
   ]
  },
  {
   "attachments": {},
   "cell_type": "markdown",
   "metadata": {},
   "source": [
    "# 4.Skalarni součin"
   ]
  },
  {
   "cell_type": "code",
   "execution_count": 5,
   "metadata": {},
   "outputs": [
    {
     "name": "stdout",
     "output_type": "stream",
     "text": [
      "variable: 10\n",
      "Standardní Python - Generace matic:  0.013002157211303711\n",
      "Standardní Python - Skalárni součin matic:  0.0\n",
      "Specializovaná knihovna Python - Generace matic:  0.0009918212890625\n",
      "Specializovaná knihovna - Skalárni součin matic:  0.0\n",
      "variable: 100\n",
      "Standardní Python - Generace matic:  0.0\n",
      "Standardní Python - Skalárni součin matic:  0.0\n",
      "Specializovaná knihovna Python - Generace matic:  0.0\n",
      "Specializovaná knihovna - Skalárni součin matic:  0.0\n",
      "variable: 1000\n",
      "Standardní Python - Generace matic:  0.002001523971557617\n",
      "Standardní Python - Skalárni součin matic:  0.0\n",
      "Specializovaná knihovna Python - Generace matic:  0.000997781753540039\n",
      "Specializovaná knihovna - Skalárni součin matic:  0.0\n",
      "variable: 10000\n",
      "Standardní Python - Generace matic:  0.021709918975830078\n",
      "Standardní Python - Skalárni součin matic:  0.0009992122650146484\n",
      "Specializovaná knihovna Python - Generace matic:  0.0\n",
      "Specializovaná knihovna - Skalárni součin matic:  0.0\n",
      "variable: 100000\n",
      "Standardní Python - Generace matic:  0.1995410919189453\n",
      "Standardní Python - Skalárni součin matic:  0.011125326156616211\n",
      "Specializovaná knihovna Python - Generace matic:  0.0019981861114501953\n",
      "Specializovaná knihovna - Skalárni součin matic:  0.0\n",
      "variable: 1000000\n",
      "Standardní Python - Generace matic:  1.9671390056610107\n",
      "Standardní Python - Skalárni součin matic:  0.14525485038757324\n",
      "Specializovaná knihovna Python - Generace matic:  0.024945735931396484\n",
      "Specializovaná knihovna - Skalárni součin matic:  0.0\n",
      "variable: 10000000\n",
      "Standardní Python - Generace matic:  17.87444043159485\n",
      "Standardní Python - Skalárni součin matic:  1.1914637088775635\n",
      "Specializovaná knihovna Python - Generace matic:  0.2479996681213379\n",
      "Specializovaná knihovna - Skalárni součin matic:  0.010999441146850586\n"
     ]
    }
   ],
   "source": [
    "def skalarnisoucin(a,b):\n",
    "    sk = 0\n",
    "    for i in range (len(a)):\n",
    "            sk+=a[i]*b[i]\n",
    "    return sk\n",
    "\n",
    "factor = 10\n",
    "i=1\n",
    "while i < 1000001:\n",
    "    i *= factor\n",
    "    number = i\n",
    "    print(\"variable:\", i)\n",
    "    start_time = time.time()\n",
    "    matrix1 = [random.randint(1, 100) for _ in range(number)]\n",
    "    matrix2 = [random.randint(1, 100) for _ in range(number)]\n",
    "    end_time = time.time()\n",
    "    execution_time = end_time - start_time\n",
    "    print(\"Standardní Python - Generace matic: \", execution_time)\n",
    "\n",
    "    start_time = time.time()\n",
    "    result = skalarnisoucin(matrix1, matrix2)\n",
    "    end_time = time.time()\n",
    "    execution_time = end_time - start_time\n",
    "    print(\"Standardní Python - Skalárni součin matic: \", execution_time)\n",
    "\n",
    "    start_time = time.time()\n",
    "    matrix1 = np.random.randint(1, 100, size=(number))\n",
    "    matrix2 = np.random.randint(1, 100, size=(number))\n",
    "    end_time = time.time()\n",
    "    execution_time = end_time - start_time\n",
    "    print(\"Specializovaná knihovna Python - Generace matic: \", execution_time)\n",
    "\n",
    "    start_time = time.time()\n",
    "    result = np.dot(matrix1, matrix2)\n",
    "    end_time = time.time()\n",
    "    execution_time = end_time - start_time\n",
    "    print(\"Specializovaná knihovna - Skalárni součin matic: \", execution_time)"
   ]
  },
  {
   "attachments": {},
   "cell_type": "markdown",
   "metadata": {},
   "source": [
    "Generace matic zase největší spotřebič"
   ]
  },
  {
   "attachments": {},
   "cell_type": "markdown",
   "metadata": {},
   "source": [
    "# 5 Určitý integrál"
   ]
  },
  {
   "cell_type": "code",
   "execution_count": 20,
   "metadata": {},
   "outputs": [
    {
     "name": "stdout",
     "output_type": "stream",
     "text": [
      "Testovaci funkce 1 - nativni python:\n",
      "Vysledek: 0.3333283333499996\n",
      "timing: 0.04243159294128418\n",
      "Testovaci funkce 2 - nativni python:\n",
      "Vysledek: 0.2499950000249992\n",
      "timing: 0.03818964958190918\n",
      "Testovaci funkce 3 - nativni python:\n",
      "Vysledek: 0.45969348677310995\n",
      "timing: 0.12044906616210938\n",
      "Testovaci funkce 4 - nativni python:\n",
      "Vysledek: 1.718273237064223\n",
      "timing: 0.12530875205993652\n",
      "------------------------\n",
      "Testovaci funkce 1 - numpy:\n",
      "Vysledek: 0.33333000001666685\n",
      "timing: 0.005056858062744141\n",
      "Testovaci funkce 2 - numpy:\n",
      "Vysledek: 0.24999750002500026\n",
      "timing: 0.0069735050201416016\n",
      "Testovaci funkce 3 - numpy:\n",
      "Vysledek: 0.45969309715108814\n",
      "timing: 0.0030045509338378906\n",
      "Testovaci funkce 4 - numpy:\n",
      "Vysledek: 1.7182646456550799\n",
      "timing: 0.0029959678649902344\n",
      "------------------------\n",
      "Testovaci funkce 1 - mpmath:\n",
      "Vysledek: 0.3333333333333333\n",
      "timing: 0.0020058155059814453\n",
      "Testovaci funkce 2 - mpmath:\n",
      "Vysledek: 0.25\n",
      "timing: 0.002182483673095703\n",
      "Testovaci funkce 3 - mpmath:\n",
      "Vysledek: 0.4596976941318603\n",
      "timing: 0.004815578460693359\n",
      "Testovaci funkce 4 - mpmath:\n",
      "Vysledek: 1.7182818284590453\n",
      "timing: 0.004000186920166016\n"
     ]
    }
   ],
   "source": [
    "# nativni python\n",
    "def integrate_native(f, a, b, n):\n",
    "    dx = (b - a) / n\n",
    "    integral = 0.0\n",
    "    for i in range(n):\n",
    "        x = a + i * dx\n",
    "        integral += f(x)\n",
    "    integral *= dx\n",
    "    return integral\n",
    "\n",
    "# numpy\n",
    "def integrate_numpy(f, a, b, n):\n",
    "    x = np.linspace(a, b, n)\n",
    "    dx = (b - a) / n\n",
    "    y = f(x)\n",
    "    integral = np.trapz(y, dx=dx)\n",
    "    return integral\n",
    "\n",
    "# mpmath\n",
    "def integrate_mpmath(f, a, b, n):\n",
    "    mp.dps = 50  \n",
    "    integral = quad(f, [a, b], maxdegree=n)\n",
    "    return float(integral)\n",
    "\n",
    "def test_native(n, a, b):\n",
    "    test_functions = [\n",
    "        lambda x: x**2,\n",
    "        lambda x: x**3,\n",
    "        lambda x: np.sin(x),\n",
    "        lambda x: np.exp(x)\n",
    "    ]\n",
    "    for i, f in enumerate(test_functions):\n",
    "        print(f\"Testovaci funkce {i+1} - nativni python:\")\n",
    "        \n",
    "        start_time = time.time()\n",
    "        integral_native = integrate_native(f, a, b, n)\n",
    "        end_time = time.time()\n",
    "        print(\"Vysledek:\", integral_native)\n",
    "        print(\"timing:\", end_time - start_time)\n",
    "\n",
    "def test_numpy(n, a, b):\n",
    "    test_functions = [\n",
    "        np.square,\n",
    "        lambda x: np.power(x, 3),\n",
    "        np.sin,\n",
    "        np.exp\n",
    "    ]\n",
    "\n",
    "    for i, f in enumerate(test_functions):\n",
    "        print(f\"Testovaci funkce {i+1} - numpy:\")\n",
    "        \n",
    "        start_time = time.time()\n",
    "        integral_numpy = integrate_numpy(f, a, b, n)\n",
    "        end_time = time.time()\n",
    "        print(\"Vysledek:\", integral_numpy)\n",
    "        print(\"timing:\", end_time - start_time)     \n",
    "\n",
    "def test_mpmath(n, a, b):\n",
    "    test_functions = [\n",
    "        lambda x: mpf(x)**2,\n",
    "        lambda x: mpf(x)**3,\n",
    "        mp.sin,\n",
    "        mp.exp\n",
    "    ]\n",
    "    a = mpf(a)  \n",
    "    b = mpf(b)  \n",
    "    for i, f in enumerate(test_functions):\n",
    "        print(f\"Testovaci funkce {i+1} - mpmath:\")\n",
    "        \n",
    "        start_time = time.time()\n",
    "        integral_mpmath = integrate_mpmath(f, a, b, n)\n",
    "        end_time = time.time()\n",
    "        print(\"Vysledek:\", integral_mpmath)\n",
    "        print(\"timing:\", end_time - start_time)\n",
    "\n",
    "# main\n",
    "n = 100000\n",
    "a = 0\n",
    "b = 1\n",
    "test_native(n,a,b)\n",
    "print(\"------------------------\")\n",
    "test_numpy(n,a,b)\n",
    "print(\"------------------------\")\n",
    "test_mpmath(n,a,b)\n",
    "\n",
    "\n",
    "\n"
   ]
  },
  {
   "attachments": {},
   "cell_type": "markdown",
   "metadata": {},
   "source": [
    "# 6 mby pokud se mi zaches\n"
   ]
  }
 ],
 "metadata": {
  "kernelspec": {
   "display_name": "Python 3",
   "language": "python",
   "name": "python3"
  },
  "language_info": {
   "codemirror_mode": {
    "name": "ipython",
    "version": 3
   },
   "file_extension": ".py",
   "mimetype": "text/x-python",
   "name": "python",
   "nbconvert_exporter": "python",
   "pygments_lexer": "ipython3",
   "version": "3.9.10"
  },
  "orig_nbformat": 4
 },
 "nbformat": 4,
 "nbformat_minor": 2
}
