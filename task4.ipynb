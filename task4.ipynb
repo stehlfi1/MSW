{
 "cells": [
  {
   "attachments": {},
   "cell_type": "markdown",
   "metadata": {},
   "source": [
    "6. Generování náhodných čísel a testování generátorů\n",
    "\n",
    "Zadání:\n",
    "Tento úkol bude poněkud kreativnější charakteru. Vaším úkolem je vytvořit vlastní generátor semínka do pseudonáhodných algoritmů. Jazyk Python umí sbírat přes ovladače hardwarových zařízení různá fyzická a fyzikální data. Můžete i sbírat data z historie prohlížeče, snímání pohybu myší, vyzvání uživatele zadat náhodné úhozy do klávesnice a jiná unikátní data uživatelů."
   ]
  },
  {
   "cell_type": "code",
   "execution_count": 23,
   "metadata": {},
   "outputs": [
    {
     "name": "stdout",
     "output_type": "stream",
     "text": [
      "your generated seed: 54f2d13ac58693e57e62970d532f09f968aad3da9420746bf4102ffe2d0cf4a5\n"
     ]
    }
   ],
   "source": [
    "import os\n",
    "import hashlib\n",
    "import platform\n",
    "import psutil\n",
    "import time\n",
    "\n",
    "def gather_data():\n",
    "    # seznam balicku \n",
    "    try:\n",
    "        packages = os.popen('dpkg -l').read()\n",
    "    except:\n",
    "        packages = \"nopackagesfound\"\n",
    "\n",
    "    #misto na disku s psutil\n",
    "    free_space = str(psutil.disk_usage('/').free)\n",
    "\n",
    "    # sysinfo\n",
    "    system_info = platform.platform().lower()\n",
    "\n",
    "    curr_time = str(time.time()).replace('.', '')\n",
    "\n",
    "    everything_combined = packages + free_space + system_info + curr_time\n",
    "\n",
    "    return everything_combined\n",
    "\n",
    "data_for_hashing = gather_data()\n",
    "generated_seed = hashlib.sha256(data_for_hashing.encode()).hexdigest()\n",
    "print(\"your generated seed: \" + generated_seed)\n",
    "\n"
   ]
  }
 ],
 "metadata": {
  "kernelspec": {
   "display_name": "Python 3",
   "language": "python",
   "name": "python3"
  },
  "language_info": {
   "codemirror_mode": {
    "name": "ipython",
    "version": 3
   },
   "file_extension": ".py",
   "mimetype": "text/x-python",
   "name": "python",
   "nbconvert_exporter": "python",
   "pygments_lexer": "ipython3",
   "version": "3.9.10"
  },
  "orig_nbformat": 4
 },
 "nbformat": 4,
 "nbformat_minor": 2
}
