{
 "cells": [
  {
   "attachments": {},
   "cell_type": "markdown",
   "metadata": {},
   "source": [
    "Zadání:\n",
    "V oblasti přírodních a sociálních věd je velice důležitým pojmem integrál, který představuje funkci součtů malých změn (počet nakažených covidem za čas, hustota monomerů daného typu při posouvání se v řetízku polymeru, aj.). Integraci lze provádět pro velmi jednoduché funkce prostou Riemannovým součtem, avšak pro složitější funkce je nutné využít pokročilé metody. Vaším úkolem je vybrat si 3 různorodé funkce (polynom, harmonická funkce, logaritmus/exponenciála) a vypočíst určitý integrál na dané funkci od nějakého počátku do nějakého konečného bodu. Porovnejte, jak si každá z metod poradila s vámi vybranou funkcí na základě přesnosti vůči analytickému řešení."
   ]
  },
  {
   "attachments": {},
   "cell_type": "markdown",
   "metadata": {},
   "source": [
    "Imports"
   ]
  },
  {
   "cell_type": "code",
   "execution_count": 9,
   "metadata": {},
   "outputs": [],
   "source": [
    "import numpy as np\n",
    "from scipy import integrate, special\n",
    "from sympy import Symbol, integrate as sp_integrate, exp, sin, cos, log"
   ]
  },
  {
   "attachments": {},
   "cell_type": "markdown",
   "metadata": {},
   "source": [
    "My functions"
   ]
  },
  {
   "cell_type": "code",
   "execution_count": 12,
   "metadata": {},
   "outputs": [],
   "source": [
    "def booles_rule(func, a, b, n=4):\n",
    "    h = (b - a) / n\n",
    "    return (2*h/45) * (7*func(a) + 32*func(a+h) + 12*func(a+2*h) + 32*func(a+3*h) + 7*func(b))"
   ]
  },
  {
   "attachments": {},
   "cell_type": "markdown",
   "metadata": {},
   "source": [
    "Chunky code"
   ]
  },
  {
   "cell_type": "code",
   "execution_count": 13,
   "metadata": {},
   "outputs": [
    {
     "name": "stdout",
     "output_type": "stream",
     "text": [
      "quad\n",
      "f(x) result = 734.1333333333331\n",
      "error for f(x) is 2.2737367544323206e-13\n",
      "g(x) result = 2.1483227440412547\n",
      "error for g(x) is 1.340483279932414e-10\n",
      "h(x) result = 4.933416446450741\n",
      "error for h(x) is 2.7509329925123893e-08\n",
      "------end of method------\n",
      "trapezoid\n",
      "f(x) result = 734.3248745050829\n",
      "error for f(x) is 0.1915411717495772\n",
      "g(x) result = 2.147828560521881\n",
      "error for g(x) is 0.0004941836534220201\n",
      "h(x) result = 4.933307648745865\n",
      "error for h(x) is 0.00010882521420541025\n",
      "------end of method------\n",
      "simpsons\n",
      "f(x) result = 734.1371601327974\n",
      "error for f(x) is 0.0038267994640364122\n",
      "g(x) result = 2.148315045760405\n",
      "error for g(x) is 7.698414898005268e-06\n",
      "h(x) result = 4.933408202251958\n",
      "error for h(x) is 8.27170811223965e-06\n",
      "------end of method------\n",
      "romberg\n",
      "f(x) result = 734.1333333333333\n",
      "error for f(x) is 0.0\n",
      "g(x) result = 2.1483227441753017\n",
      "error for g(x) is 1.3322676295501878e-15\n",
      "h(x) result = 4.933416473959738\n",
      "error for h(x) is 3.3217872896784684e-13\n",
      "------end of method------\n",
      "boole\n",
      "f(x) result = 734.1333333333333\n",
      "error for f(x) is 0.0\n",
      "g(x) result = 2.3379284507911398\n",
      "error for g(x) is 0.18960570661583676\n",
      "h(x) result = 4.888329860908389\n",
      "error for h(x) is 0.04508661305168182\n",
      "------end of method------\n",
      "\n",
      "analyze results:\n",
      "f(x) solution = 734.1333333333333\n",
      "g(x) solution = 2.148322744175303\n",
      "h(x) solution = 4.9334164739600705\n"
     ]
    }
   ],
   "source": [
    "x = Symbol('x')\n",
    "\n",
    "# Functions\n",
    "f = x**5 + x**4 - 3*x**3 + 2*x**2 - x + 1\n",
    "g = sin(x) + cos(2*x)\n",
    "h = exp(-x**2) + log(1 + x)\n",
    "\n",
    "f_anal_expr = sp_integrate(f, x)\n",
    "g_anal_expr = sp_integrate(g, x)\n",
    "h_anal_expr = sp_integrate(h, x)\n",
    "\n",
    "\n",
    "f_anal = lambda x_val: float(f_anal_expr.subs(x, x_val))\n",
    "g_anal = lambda x_val: float(g_anal_expr.subs(x, x_val))\n",
    "h_anal = lambda x_val: float(h_anal_expr.subs(x, x_val))\n",
    "\n",
    "\n",
    "f = lambda x: x**5 + x**4 - 3*x**3 + 2*x**2 - x + 1\n",
    "g = lambda x: np.sin(x) + np.cos(2*x)\n",
    "h = lambda x: np.exp(-x**2) + np.log(1+x)\n",
    "\n",
    "a, b = 0, 4\n",
    "n = 100\n",
    "\n",
    "methods = {\n",
    "    \"quad\": integrate.quadrature,\n",
    "    \"trapezoid\": lambda func, a, b: integrate.trapezoid(func(np.linspace(a, b, n)), np.linspace(a, b, n)),\n",
    "    \"simpsons\": lambda func, a, b: integrate.simpson(func(np.linspace(a, b, n)), np.linspace(a, b, n)),\n",
    "    \"romberg\": integrate.romberg,\n",
    "    \"boole\": booles_rule,\n",
    "}\n",
    "\n",
    "for method_name, method in methods.items():\n",
    "    print(method_name)\n",
    "    for func_name, func in [(\"f\", f), (\"g\", g), (\"h\", h)]:\n",
    "        result = method(func, a, b)\n",
    "        if isinstance(result, tuple):  # bugfix\n",
    "            result = result[0]\n",
    "        print(f\"{func_name}(x) result =\", result)\n",
    "\n",
    "        if func_name == \"f\":\n",
    "            error = abs(result - (f_anal(b) - f_anal(a)))\n",
    "        elif func_name == \"g\":\n",
    "            error = abs(result - (g_anal(b) - g_anal(a)))\n",
    "        else:\n",
    "            error = abs(result - (h_anal(b) - h_anal(a)))\n",
    "\n",
    "        print(f\"error for {func_name}(x) is\", error)\n",
    "    print(\"------end of method-------\")\n",
    "\n",
    "print(\"\\nanalyze results:\")\n",
    "print(f\"f(x) solution = {f_anal(b) - f_anal(a)}\")\n",
    "print(f\"g(x) solution = {g_anal(b) - g_anal(a)}\")\n",
    "print(f\"h(x) solution = {h_anal(b) - h_anal(a)}\")\n"
   ]
  },
  {
   "attachments": {},
   "cell_type": "markdown",
   "metadata": {},
   "source": [
    "## Analysys of results\n",
    "### quad\n",
    "Komplikovanější funkce kterou jsem se ani nesnažil pochopit, dopadla velice dobre\n",
    "### trapezoid\n",
    "Nejslabší metoda dopadla očekávaně\n",
    "### simpson\n",
    "Solidní\n",
    "### romberg\n",
    "Nejlepší výsledek, nečekal jsem takový improvement od Richardsonovany extrapolace\n",
    "### bool\n",
    "Perfekt pro f(), ostatní horsi jak i trapezoid. N a spatna implementace mozna delaji problemy.\n"
   ]
  }
 ],
 "metadata": {
  "kernelspec": {
   "display_name": "Python 3",
   "language": "python",
   "name": "python3"
  },
  "language_info": {
   "codemirror_mode": {
    "name": "ipython",
    "version": 3
   },
   "file_extension": ".py",
   "mimetype": "text/x-python",
   "name": "python",
   "nbconvert_exporter": "python",
   "pygments_lexer": "ipython3",
   "version": "3.9.10"
  },
  "orig_nbformat": 4
 },
 "nbformat": 4,
 "nbformat_minor": 2
}
